{
 "cells": [
  {
   "cell_type": "markdown",
   "metadata": {},
   "source": [
    "# SEIR & PR Model for COVID19 Global forecast\n",
    "\n",
    "SEIR MODEL Reference:\n",
    "* Many thanks for @datasaurus great Kernel : https://www.kaggle.com/anjum48/seir-model-with-intervention\n",
    "* [Compartmental models in epidemiology - SEIR](https://en.wikipedia.org/wiki/Compartmental_models_in_epidemiology#The_SEIR_model)\n",
    "* [SEIR Great APP](http://gabgoh.github.io/COVID/index.html)\n",
    "\n",
    "PR model Reference:\n",
    "* [My previous kernel](https://www.kaggle.com/super13579/covid19-global-forcast-simple-eda-pr-model)\n"
   ]
  },
  {
   "cell_type": "code",
   "execution_count": 1,
   "metadata": {
    "ExecuteTime": {
     "end_time": "2020-03-23T05:24:24.576517Z",
     "start_time": "2020-03-23T05:24:23.891697Z"
    },
    "_cell_guid": "b1076dfc-b9ad-4769-8c92-a6c4dae69d19",
    "_uuid": "8f2839f25d086af736a60e9eeb907d3b93b6e0e5"
   },
   "outputs": [],
   "source": [
    "import pandas as pd\n",
    "import numpy as np\n",
    "import matplotlib.pyplot as plt\n",
    "from pathlib import Path\n",
    "import os\n",
    "from tqdm.notebook import tqdm\n",
    "from scipy.integrate import solve_ivp\n",
    "import numpy\n",
    "import datetime\n",
    "from datetime import timedelta\n",
    "\n",
    "%matplotlib inline"
   ]
  },
  {
   "attachments": {
    "image.png": {
     "image/png": "[encoded data removed]"
    }
   },
   "cell_type": "markdown",
   "metadata": {},
   "source": [
    "## SEIR Model function\n",
    "* Function From [SEIR Great APP](http://gabgoh.github.io/COVID/index.html)\n",
    "![image.png](https://upload.wikimedia.org/wikipedia/commons/3/3d/SEIR.PNG)\n",
    "* S ==> Susceptible : number of susceptible\n",
    "* E ==> Expose : number of expose\n",
    "* I ==> Infectious : number of infectious\n",
    "* R ==> Recovered or Removed : number recovered (or immune) individuals. \n",
    "* We have S + E + I + R = N, this is only constant because of the (degenerate) assumption that birth and death rates are equal, N is country population.\n",
    "\n",
    "Susceptible → Exposed → Infected → Removed, Differential Function as below (from [SEIR Great APP](http://gabgoh.github.io/COVID/index.html)): \n",
    "![image.png](attachment:image.png)\n",
    "We need to solve the Differential equation to find the S,E,I,R, but what is **\"R_t\"**, **\"T_inf\"**, **\"T_inc\"** and how can we define those variable?\n",
    "* R_0 & R_t ==> [Reproduction number](https://en.wikipedia.org/wiki/Basic_reproduction_number), The definition describes the state where no other individuals are infected or immunized (naturally or through vaccination)\n",
    "* T_inf ==> Average duration of the infection, 1/T_inf can be treat as individual experiences one recovery in D units of time.\n",
    "* T_inc ==> Average incubation period, Many paper and article define as 5.1 ([reference](https://www.ncbi.nlm.nih.gov/pubmed/32150748), [reference2](https://www.worldometers.info/coronavirus/coronavirus-incubation-period/))\n",
    "\n",
    "### Assume there are some intervention will cause reproduction number (R_0) reduce (such as bed nets and vaccines,government, isolation ....), have an effectiveness which decays over time "
   ]
  },
  {
   "cell_type": "code",
   "execution_count": 2,
   "metadata": {
    "ExecuteTime": {
     "end_time": "2020-03-23T05:24:24.587962Z",
     "start_time": "2020-03-23T05:24:24.577878Z"
    },
    "_cell_guid": "79c7e3d0-c299-4dcb-8224-4455121ee9b0",
    "_uuid": "d629ff2d2480ee46fbb7e2d37f6b5fab8052498a"
   },
   "outputs": [],
   "source": [
    "# Function code refernece from https://www.kaggle.com/anjum48/seir-model-with-intervention\n",
    "\n",
    "# Susceptible equation\n",
    "def dS_dt(S, I, R_t, T_inf):\n",
    "    return -(R_t / T_inf) * I * S\n",
    "\n",
    "# Exposed equation\n",
    "def dE_dt(S, E, I, R_t, T_inf, T_inc):\n",
    "    return (R_t / T_inf) * I * S - (T_inc**-1) * E\n",
    "\n",
    "# Infected equation\n",
    "def dI_dt(I, E, T_inc, T_inf):\n",
    "    return (T_inc**-1) * E - (T_inf**-1) * I\n",
    "\n",
    "# Recovered/Remove/deceased equation\n",
    "def dR_dt(I, T_inf):\n",
    "    return (T_inf**-1) * I\n",
    "\n",
    "def SEIR_model(t, y, R_t, T_inf, T_inc):\n",
    "    \n",
    "    if callable(R_t):\n",
    "        reproduction = R_t(t)\n",
    "    else:\n",
    "        reproduction = R_t\n",
    "        \n",
    "    S, E, I, R = y\n",
    "    \n",
    "    S_out = dS_dt(S, I, reproduction, T_inf)\n",
    "    E_out = dE_dt(S, E, I, reproduction, T_inf, T_inc)\n",
    "    I_out = dI_dt(I, E, T_inc, T_inf)\n",
    "    R_out = dR_dt(I, T_inf)\n",
    "    \n",
    "    return [S_out, E_out, I_out, R_out]"
   ]
  },
  {
   "cell_type": "markdown",
   "metadata": {},
   "source": [
    "## Let's try simple SEIR model on Hubei\n",
    "* Already defined R0, T_inf, T_inc. \n",
    "* Compare invention and non-invention condition on SEIR model."
   ]
  },
  {
   "cell_type": "markdown",
   "metadata": {},
   "source": [
    "### Load dataset (Global ComfirmedCase of each country)"
   ]
  },
  {
   "cell_type": "markdown",
   "metadata": {},
   "source": [
    "First, we will clean the data, we only focus on the data of China and United States."
   ]
  },
  {
   "cell_type": "code",
   "execution_count": 3,
   "metadata": {},
   "outputs": [
    {
     "data": {
      "text/html": [
       "<div>\n",
       "<style scoped>\n",
       "    .dataframe tbody tr th:only-of-type {\n",
       "        vertical-align: middle;\n",
       "    }\n",
       "\n",
       "    .dataframe tbody tr th {\n",
       "        vertical-align: top;\n",
       "    }\n",
       "\n",
       "    .dataframe thead th {\n",
       "        text-align: right;\n",
       "    }\n",
       "</style>\n",
       "<table border=\"1\" class=\"dataframe\">\n",
       "  <thead>\n",
       "    <tr style=\"text-align: right;\">\n",
       "      <th></th>\n",
       "      <th>Id</th>\n",
       "      <th>Province_State</th>\n",
       "      <th>Country_Region</th>\n",
       "      <th>Date</th>\n",
       "      <th>ConfirmedCases</th>\n",
       "      <th>Fatalities</th>\n",
       "      <th>Date_datetime</th>\n",
       "    </tr>\n",
       "  </thead>\n",
       "  <tbody>\n",
       "    <tr>\n",
       "      <td>4158</td>\n",
       "      <td>5779</td>\n",
       "      <td>Anhui</td>\n",
       "      <td>China</td>\n",
       "      <td>2020-01-22</td>\n",
       "      <td>1.0</td>\n",
       "      <td>0.0</td>\n",
       "      <td>2020-01-22</td>\n",
       "    </tr>\n",
       "    <tr>\n",
       "      <td>4159</td>\n",
       "      <td>5780</td>\n",
       "      <td>Anhui</td>\n",
       "      <td>China</td>\n",
       "      <td>2020-01-23</td>\n",
       "      <td>9.0</td>\n",
       "      <td>0.0</td>\n",
       "      <td>2020-01-23</td>\n",
       "    </tr>\n",
       "    <tr>\n",
       "      <td>4160</td>\n",
       "      <td>5781</td>\n",
       "      <td>Anhui</td>\n",
       "      <td>China</td>\n",
       "      <td>2020-01-24</td>\n",
       "      <td>15.0</td>\n",
       "      <td>0.0</td>\n",
       "      <td>2020-01-24</td>\n",
       "    </tr>\n",
       "    <tr>\n",
       "      <td>4161</td>\n",
       "      <td>5782</td>\n",
       "      <td>Anhui</td>\n",
       "      <td>China</td>\n",
       "      <td>2020-01-25</td>\n",
       "      <td>39.0</td>\n",
       "      <td>0.0</td>\n",
       "      <td>2020-01-25</td>\n",
       "    </tr>\n",
       "    <tr>\n",
       "      <td>4162</td>\n",
       "      <td>5783</td>\n",
       "      <td>Anhui</td>\n",
       "      <td>China</td>\n",
       "      <td>2020-01-26</td>\n",
       "      <td>60.0</td>\n",
       "      <td>0.0</td>\n",
       "      <td>2020-01-26</td>\n",
       "    </tr>\n",
       "    <tr>\n",
       "      <td>...</td>\n",
       "      <td>...</td>\n",
       "      <td>...</td>\n",
       "      <td>...</td>\n",
       "      <td>...</td>\n",
       "      <td>...</td>\n",
       "      <td>...</td>\n",
       "      <td>...</td>\n",
       "    </tr>\n",
       "    <tr>\n",
       "      <td>6694</td>\n",
       "      <td>9275</td>\n",
       "      <td>Zhejiang</td>\n",
       "      <td>China</td>\n",
       "      <td>2020-04-03</td>\n",
       "      <td>1260.0</td>\n",
       "      <td>1.0</td>\n",
       "      <td>2020-04-03</td>\n",
       "    </tr>\n",
       "    <tr>\n",
       "      <td>6695</td>\n",
       "      <td>9276</td>\n",
       "      <td>Zhejiang</td>\n",
       "      <td>China</td>\n",
       "      <td>2020-04-04</td>\n",
       "      <td>1262.0</td>\n",
       "      <td>1.0</td>\n",
       "      <td>2020-04-04</td>\n",
       "    </tr>\n",
       "    <tr>\n",
       "      <td>6696</td>\n",
       "      <td>9277</td>\n",
       "      <td>Zhejiang</td>\n",
       "      <td>China</td>\n",
       "      <td>2020-04-05</td>\n",
       "      <td>1263.0</td>\n",
       "      <td>1.0</td>\n",
       "      <td>2020-04-05</td>\n",
       "    </tr>\n",
       "    <tr>\n",
       "      <td>6697</td>\n",
       "      <td>9278</td>\n",
       "      <td>Zhejiang</td>\n",
       "      <td>China</td>\n",
       "      <td>2020-04-06</td>\n",
       "      <td>1264.0</td>\n",
       "      <td>1.0</td>\n",
       "      <td>2020-04-06</td>\n",
       "    </tr>\n",
       "    <tr>\n",
       "      <td>6698</td>\n",
       "      <td>9279</td>\n",
       "      <td>Zhejiang</td>\n",
       "      <td>China</td>\n",
       "      <td>2020-04-07</td>\n",
       "      <td>1265.0</td>\n",
       "      <td>1.0</td>\n",
       "      <td>2020-04-07</td>\n",
       "    </tr>\n",
       "  </tbody>\n",
       "</table>\n",
       "<p>2541 rows × 7 columns</p>\n",
       "</div>"
      ],
      "text/plain": [
       "        Id Province_State Country_Region        Date  ConfirmedCases  \\\n",
       "4158  5779          Anhui          China  2020-01-22             1.0   \n",
       "4159  5780          Anhui          China  2020-01-23             9.0   \n",
       "4160  5781          Anhui          China  2020-01-24            15.0   \n",
       "4161  5782          Anhui          China  2020-01-25            39.0   \n",
       "4162  5783          Anhui          China  2020-01-26            60.0   \n",
       "...    ...            ...            ...         ...             ...   \n",
       "6694  9275       Zhejiang          China  2020-04-03          1260.0   \n",
       "6695  9276       Zhejiang          China  2020-04-04          1262.0   \n",
       "6696  9277       Zhejiang          China  2020-04-05          1263.0   \n",
       "6697  9278       Zhejiang          China  2020-04-06          1264.0   \n",
       "6698  9279       Zhejiang          China  2020-04-07          1265.0   \n",
       "\n",
       "      Fatalities Date_datetime  \n",
       "4158         0.0    2020-01-22  \n",
       "4159         0.0    2020-01-23  \n",
       "4160         0.0    2020-01-24  \n",
       "4161         0.0    2020-01-25  \n",
       "4162         0.0    2020-01-26  \n",
       "...          ...           ...  \n",
       "6694         1.0    2020-04-03  \n",
       "6695         1.0    2020-04-04  \n",
       "6696         1.0    2020-04-05  \n",
       "6697         1.0    2020-04-06  \n",
       "6698         1.0    2020-04-07  \n",
       "\n",
       "[2541 rows x 7 columns]"
      ]
     },
     "execution_count": 3,
     "metadata": {},
     "output_type": "execute_result"
    }
   ],
   "source": [
    "train = pd.read_csv('train.csv')\n",
    "test = pd.read_csv('test.csv')\n",
    "train = train.loc[train[\"Country_Region\"] == \"China\"]\n",
    "train = train.loc[train[\"Country_Region\"] == \"China\"]\n",
    "train['Date_datetime'] = train['Date'].apply(lambda x: (datetime.datetime.strptime(x, '%Y-%m-%d')))\n",
    "train"
   ]
  },
  {
   "cell_type": "code",
   "execution_count": 4,
   "metadata": {},
   "outputs": [
    {
     "name": "stdout",
     "output_type": "stream",
     "text": [
      "['Anhui' 'Beijing' 'Chongqing' 'Fujian' 'Gansu' 'Guangdong' 'Guangxi'\n",
      " 'Guizhou' 'Hainan' 'Hebei' 'Heilongjiang' 'Henan' 'Hong Kong' 'Hubei'\n",
      " 'Hunan' 'Inner Mongolia' 'Jiangsu' 'Jiangxi' 'Jilin' 'Liaoning' 'Macau'\n",
      " 'Ningxia' 'Qinghai' 'Shaanxi' 'Shandong' 'Shanghai' 'Shanxi' 'Sichuan'\n",
      " 'Tianjin' 'Tibet' 'Xinjiang' 'Yunnan' 'Zhejiang']\n"
     ]
    }
   ],
   "source": [
    "print(train['Province_State'].unique())"
   ]
  },
  {
   "cell_type": "markdown",
   "metadata": {},
   "source": [
    "### Load populations of each country"
   ]
  },
  {
   "cell_type": "code",
   "execution_count": 5,
   "metadata": {},
   "outputs": [],
   "source": [
    "pop_info = pd.read_csv('population_data.csv')\n",
    "country_pop = pop_info.query('Type == \"Country/Region\"')\n",
    "province_pop = pop_info.query('Type == \"Province/State\"')\n",
    "country_lookup = dict(zip(country_pop['Name'], country_pop['Population']))\n",
    "province_lookup = dict(zip(province_pop['Name'], province_pop['Population']))"
   ]
  },
  {
   "cell_type": "markdown",
   "metadata": {},
   "source": [
    "### Plot SEIR model and predict"
   ]
  },
  {
   "cell_type": "code",
   "execution_count": 6,
   "metadata": {
    "ExecuteTime": {
     "end_time": "2020-03-23T05:24:24.619254Z",
     "start_time": "2020-03-23T05:24:24.612497Z"
    }
   },
   "outputs": [],
   "source": [
    "def plot_model_and_predict(data, pop, solution, title='SEIR model'):\n",
    "    sus, exp, inf, rec = solution.y\n",
    "    \n",
    "    f = plt.figure(figsize=(16,5))\n",
    "    ax = f.add_subplot(1,2,1)\n",
    "    #ax.plot(sus, 'b', label='Susceptible');\n",
    "    ax.plot(exp, 'y', label='Exposed');\n",
    "    ax.plot(inf, 'r', label='Infected');\n",
    "    ax.plot(rec, 'c', label='Recovered/deceased');\n",
    "    plt.title(title)\n",
    "    plt.xlabel(\"Days\", fontsize=10);\n",
    "    plt.ylabel(\"Fraction of population\", fontsize=10);\n",
    "    plt.legend(loc='best');\n",
    "    \n",
    "    ax2 = f.add_subplot(1,2,2)\n",
    "    preds = np.clip((inf + rec) * pop ,0,np.inf)\n",
    "    ax2.plot(range(len(data)),preds[:len(data)],label = 'Predict ConfirmedCases')\n",
    "    ax2.plot(range(len(data)),data['ConfirmedCases'])\n",
    "    plt.title('Model predict and data')\n",
    "    plt.ylabel(\"Population\", fontsize=10);\n",
    "    plt.xlabel(\"Days\", fontsize=10);\n",
    "    plt.legend(loc='best');"
   ]
  },
  {
   "cell_type": "markdown",
   "metadata": {},
   "source": [
    "### Model without intervention\n",
    "* We can see the without intervention, Hubei comfirmedcase will keep increase... this is very terrifying."
   ]
  },
  {
   "cell_type": "code",
   "execution_count": 7,
   "metadata": {
    "ExecuteTime": {
     "end_time": "2020-03-23T05:24:25.317946Z",
     "start_time": "2020-03-23T05:24:24.620743Z"
    }
   },
   "outputs": [
    {
     "name": "stderr",
     "output_type": "stream",
     "text": [
      "/Users/hongyujin/opt/anaconda3/lib/python3.7/site-packages/scipy/integrate/_ivp/common.py:41: UserWarning: The following arguments have no effect for a chosen solver: `args`.\n",
      "  .format(\", \".join(\"`{}`\".format(x) for x in extraneous)))\n"
     ]
    },
    {
     "ename": "TypeError",
     "evalue": "SEIR_model() missing 3 required positional arguments: 'R_t', 'T_inf', and 'T_inc'",
     "output_type": "error",
     "traceback": [
      "\u001b[0;31m---------------------------------------------------------------------------\u001b[0m",
      "\u001b[0;31mTypeError\u001b[0m                                 Traceback (most recent call last)",
      "\u001b[0;32m<ipython-input-7-7038250554b6>\u001b[0m in \u001b[0;36m<module>\u001b[0;34m\u001b[0m\n\u001b[1;32m     23\u001b[0m \u001b[0;31m## Solve the SEIR model\u001b[0m\u001b[0;34m\u001b[0m\u001b[0;34m\u001b[0m\u001b[0;34m\u001b[0m\u001b[0m\n\u001b[1;32m     24\u001b[0m sol = solve_ivp(SEIR_model, [0, max_days], [s, e, i, r], args=(R_0, T_inf, T_inc), \n\u001b[0;32m---> 25\u001b[0;31m                 t_eval=np.arange(max_days))\n\u001b[0m\u001b[1;32m     26\u001b[0m \u001b[0;34m\u001b[0m\u001b[0m\n\u001b[1;32m     27\u001b[0m \u001b[0;31m## Plot result\u001b[0m\u001b[0;34m\u001b[0m\u001b[0;34m\u001b[0m\u001b[0;34m\u001b[0m\u001b[0m\n",
      "\u001b[0;32m~/opt/anaconda3/lib/python3.7/site-packages/scipy/integrate/_ivp/ivp.py\u001b[0m in \u001b[0;36msolve_ivp\u001b[0;34m(fun, t_span, y0, method, t_eval, dense_output, events, vectorized, **options)\u001b[0m\n\u001b[1;32m    475\u001b[0m         \u001b[0mmethod\u001b[0m \u001b[0;34m=\u001b[0m \u001b[0mMETHODS\u001b[0m\u001b[0;34m[\u001b[0m\u001b[0mmethod\u001b[0m\u001b[0;34m]\u001b[0m\u001b[0;34m\u001b[0m\u001b[0;34m\u001b[0m\u001b[0m\n\u001b[1;32m    476\u001b[0m \u001b[0;34m\u001b[0m\u001b[0m\n\u001b[0;32m--> 477\u001b[0;31m     \u001b[0msolver\u001b[0m \u001b[0;34m=\u001b[0m \u001b[0mmethod\u001b[0m\u001b[0;34m(\u001b[0m\u001b[0mfun\u001b[0m\u001b[0;34m,\u001b[0m \u001b[0mt0\u001b[0m\u001b[0;34m,\u001b[0m \u001b[0my0\u001b[0m\u001b[0;34m,\u001b[0m \u001b[0mtf\u001b[0m\u001b[0;34m,\u001b[0m \u001b[0mvectorized\u001b[0m\u001b[0;34m=\u001b[0m\u001b[0mvectorized\u001b[0m\u001b[0;34m,\u001b[0m \u001b[0;34m**\u001b[0m\u001b[0moptions\u001b[0m\u001b[0;34m)\u001b[0m\u001b[0;34m\u001b[0m\u001b[0;34m\u001b[0m\u001b[0m\n\u001b[0m\u001b[1;32m    478\u001b[0m \u001b[0;34m\u001b[0m\u001b[0m\n\u001b[1;32m    479\u001b[0m     \u001b[0;32mif\u001b[0m \u001b[0mt_eval\u001b[0m \u001b[0;32mis\u001b[0m \u001b[0;32mNone\u001b[0m\u001b[0;34m:\u001b[0m\u001b[0;34m\u001b[0m\u001b[0;34m\u001b[0m\u001b[0m\n",
      "\u001b[0;32m~/opt/anaconda3/lib/python3.7/site-packages/scipy/integrate/_ivp/rk.py\u001b[0m in \u001b[0;36m__init__\u001b[0;34m(self, fun, t0, y0, t_bound, max_step, rtol, atol, vectorized, first_step, **extraneous)\u001b[0m\n\u001b[1;32m     98\u001b[0m         \u001b[0mself\u001b[0m\u001b[0;34m.\u001b[0m\u001b[0mmax_step\u001b[0m \u001b[0;34m=\u001b[0m \u001b[0mvalidate_max_step\u001b[0m\u001b[0;34m(\u001b[0m\u001b[0mmax_step\u001b[0m\u001b[0;34m)\u001b[0m\u001b[0;34m\u001b[0m\u001b[0;34m\u001b[0m\u001b[0m\n\u001b[1;32m     99\u001b[0m         \u001b[0mself\u001b[0m\u001b[0;34m.\u001b[0m\u001b[0mrtol\u001b[0m\u001b[0;34m,\u001b[0m \u001b[0mself\u001b[0m\u001b[0;34m.\u001b[0m\u001b[0matol\u001b[0m \u001b[0;34m=\u001b[0m \u001b[0mvalidate_tol\u001b[0m\u001b[0;34m(\u001b[0m\u001b[0mrtol\u001b[0m\u001b[0;34m,\u001b[0m \u001b[0matol\u001b[0m\u001b[0;34m,\u001b[0m \u001b[0mself\u001b[0m\u001b[0;34m.\u001b[0m\u001b[0mn\u001b[0m\u001b[0;34m)\u001b[0m\u001b[0;34m\u001b[0m\u001b[0;34m\u001b[0m\u001b[0m\n\u001b[0;32m--> 100\u001b[0;31m         \u001b[0mself\u001b[0m\u001b[0;34m.\u001b[0m\u001b[0mf\u001b[0m \u001b[0;34m=\u001b[0m \u001b[0mself\u001b[0m\u001b[0;34m.\u001b[0m\u001b[0mfun\u001b[0m\u001b[0;34m(\u001b[0m\u001b[0mself\u001b[0m\u001b[0;34m.\u001b[0m\u001b[0mt\u001b[0m\u001b[0;34m,\u001b[0m \u001b[0mself\u001b[0m\u001b[0;34m.\u001b[0m\u001b[0my\u001b[0m\u001b[0;34m)\u001b[0m\u001b[0;34m\u001b[0m\u001b[0;34m\u001b[0m\u001b[0m\n\u001b[0m\u001b[1;32m    101\u001b[0m         \u001b[0;32mif\u001b[0m \u001b[0mfirst_step\u001b[0m \u001b[0;32mis\u001b[0m \u001b[0;32mNone\u001b[0m\u001b[0;34m:\u001b[0m\u001b[0;34m\u001b[0m\u001b[0;34m\u001b[0m\u001b[0m\n\u001b[1;32m    102\u001b[0m             self.h_abs = select_initial_step(\n",
      "\u001b[0;32m~/opt/anaconda3/lib/python3.7/site-packages/scipy/integrate/_ivp/base.py\u001b[0m in \u001b[0;36mfun\u001b[0;34m(t, y)\u001b[0m\n\u001b[1;32m    137\u001b[0m         \u001b[0;32mdef\u001b[0m \u001b[0mfun\u001b[0m\u001b[0;34m(\u001b[0m\u001b[0mt\u001b[0m\u001b[0;34m,\u001b[0m \u001b[0my\u001b[0m\u001b[0;34m)\u001b[0m\u001b[0;34m:\u001b[0m\u001b[0;34m\u001b[0m\u001b[0;34m\u001b[0m\u001b[0m\n\u001b[1;32m    138\u001b[0m             \u001b[0mself\u001b[0m\u001b[0;34m.\u001b[0m\u001b[0mnfev\u001b[0m \u001b[0;34m+=\u001b[0m \u001b[0;36m1\u001b[0m\u001b[0;34m\u001b[0m\u001b[0;34m\u001b[0m\u001b[0m\n\u001b[0;32m--> 139\u001b[0;31m             \u001b[0;32mreturn\u001b[0m \u001b[0mself\u001b[0m\u001b[0;34m.\u001b[0m\u001b[0mfun_single\u001b[0m\u001b[0;34m(\u001b[0m\u001b[0mt\u001b[0m\u001b[0;34m,\u001b[0m \u001b[0my\u001b[0m\u001b[0;34m)\u001b[0m\u001b[0;34m\u001b[0m\u001b[0;34m\u001b[0m\u001b[0m\n\u001b[0m\u001b[1;32m    140\u001b[0m \u001b[0;34m\u001b[0m\u001b[0m\n\u001b[1;32m    141\u001b[0m         \u001b[0mself\u001b[0m\u001b[0;34m.\u001b[0m\u001b[0mfun\u001b[0m \u001b[0;34m=\u001b[0m \u001b[0mfun\u001b[0m\u001b[0;34m\u001b[0m\u001b[0;34m\u001b[0m\u001b[0m\n",
      "\u001b[0;32m~/opt/anaconda3/lib/python3.7/site-packages/scipy/integrate/_ivp/base.py\u001b[0m in \u001b[0;36mfun_wrapped\u001b[0;34m(t, y)\u001b[0m\n\u001b[1;32m     19\u001b[0m \u001b[0;34m\u001b[0m\u001b[0m\n\u001b[1;32m     20\u001b[0m     \u001b[0;32mdef\u001b[0m \u001b[0mfun_wrapped\u001b[0m\u001b[0;34m(\u001b[0m\u001b[0mt\u001b[0m\u001b[0;34m,\u001b[0m \u001b[0my\u001b[0m\u001b[0;34m)\u001b[0m\u001b[0;34m:\u001b[0m\u001b[0;34m\u001b[0m\u001b[0;34m\u001b[0m\u001b[0m\n\u001b[0;32m---> 21\u001b[0;31m         \u001b[0;32mreturn\u001b[0m \u001b[0mnp\u001b[0m\u001b[0;34m.\u001b[0m\u001b[0masarray\u001b[0m\u001b[0;34m(\u001b[0m\u001b[0mfun\u001b[0m\u001b[0;34m(\u001b[0m\u001b[0mt\u001b[0m\u001b[0;34m,\u001b[0m \u001b[0my\u001b[0m\u001b[0;34m)\u001b[0m\u001b[0;34m,\u001b[0m \u001b[0mdtype\u001b[0m\u001b[0;34m=\u001b[0m\u001b[0mdtype\u001b[0m\u001b[0;34m)\u001b[0m\u001b[0;34m\u001b[0m\u001b[0;34m\u001b[0m\u001b[0m\n\u001b[0m\u001b[1;32m     22\u001b[0m \u001b[0;34m\u001b[0m\u001b[0m\n\u001b[1;32m     23\u001b[0m     \u001b[0;32mreturn\u001b[0m \u001b[0mfun_wrapped\u001b[0m\u001b[0;34m,\u001b[0m \u001b[0my0\u001b[0m\u001b[0;34m\u001b[0m\u001b[0;34m\u001b[0m\u001b[0m\n",
      "\u001b[0;31mTypeError\u001b[0m: SEIR_model() missing 3 required positional arguments: 'R_t', 'T_inf', and 'T_inc'"
     ]
    }
   ],
   "source": [
    "Country = 'Hubei'\n",
    "N = pop_info[pop_info['Name']==Country]['Population'].tolist()[0] # Hubei Population \n",
    "\n",
    "# Load dataset of Hubei\n",
    "train_loc = train[train['Country_Region']==Country].query('ConfirmedCases > 0')\n",
    "if len(train_loc)==0:\n",
    "    train_loc = train[train['Province_State']==Country].query('ConfirmedCases > 0')\n",
    "\n",
    "n_infected = train_loc['ConfirmedCases'].iloc[0] # start from first comfirmedcase on dataset first date\n",
    "max_days = len(train_loc)# how many days want to predict\n",
    "\n",
    "# Initial stat for SEIR model\n",
    "s = (N - n_infected)/ N\n",
    "e = 0.\n",
    "i = n_infected / N\n",
    "r = 0.\n",
    "\n",
    "# Define all variable of SEIR model \n",
    "T_inc = 5.2  # average incubation period\n",
    "T_inf = 2.9 # average infectious period\n",
    "R_0 = 3.954 # reproduction number\n",
    "\n",
    "## Solve the SEIR model \n",
    "sol = solve_ivp(SEIR_model, [0, max_days], [s, e, i, r], args=(R_0, T_inf, T_inc), \n",
    "                t_eval=np.arange(max_days))\n",
    "\n",
    "## Plot result\n",
    "plot_model_and_predict(train_loc, N, sol, title = 'SEIR Model (without intervention)')"
   ]
  },
  {
   "cell_type": "markdown",
   "metadata": {},
   "source": [
    "### Model with intervention\n",
    "* There are different way to reduce R_t, [Differnt decay function](https://github.com/SwissTPH/openmalaria/wiki/ModelDecayFunctions) as below, we are using hill function\n",
    "![image](https://raw.githubusercontent.com/wiki/SwissTPH/openmalaria/img/graphs/decay-functions.png)\n",
    "This could be modified to take any function of `R_t(t)` values to model the reproduction number as a time varying variable\n",
    "* Result shows the predict value greate fit the current comfirmedcases\n",
    "* You can also using different decay function as above to reduce \"R_t\""
   ]
  },
  {
   "cell_type": "code",
   "execution_count": null,
   "metadata": {},
   "outputs": [],
   "source": [
    "# Define all variable of SEIR model \n",
    "T_inc = 5.2  # average incubation period\n",
    "T_inf = 2.9  # average infectious period\n",
    "\n",
    "# Define the intervention parameters (fit result, latter will show how to fit)\n",
    "R_0, cfr, k, L=[ 3.95469597 , 0.04593316 , 3.      ,   15.32328881]\n",
    "\n",
    "def time_varying_reproduction(t): \n",
    "    return R_0 / (1 + (t/L)**k)\n",
    "\n",
    "sol2 = solve_ivp(SEIR_model, [0, max_days], [s, e, i, r], args=(time_varying_reproduction, T_inf, T_inc), \n",
    "                t_eval=np.arange(max_days))\n",
    "\n",
    "plot_model_and_predict(train_loc, N, sol2, title = 'SEIR Model (with intervention)')"
   ]
  },
  {
   "cell_type": "markdown",
   "metadata": {},
   "source": [
    "## Fit the SEIR model to real data\n",
    "Find the best variables of SEIR model to fit the real data\n",
    "* T_inf ==> Using average value 2.9 \n",
    "* T_inc ==> Using average value 5.2\n",
    "* **R_t** ==> find the best reproduction number by fitting the real data (if have decay function, find the paramater of decay function)\n",
    "* **cfr** ==> find the best Case fatality rate, this parater is for predict Fatalities"
   ]
  },
  {
   "cell_type": "code",
   "execution_count": null,
   "metadata": {
    "ExecuteTime": {
     "end_time": "2020-03-23T05:24:27.519392Z",
     "start_time": "2020-03-23T05:24:26.943489Z"
    }
   },
   "outputs": [],
   "source": [
    "from scipy.optimize import minimize\n",
    "from sklearn.metrics import mean_squared_log_error, mean_squared_error"
   ]
  },
  {
   "cell_type": "markdown",
   "metadata": {},
   "source": [
    "### Cumsum signal\n",
    "* to prevent fluctuation"
   ]
  },
  {
   "cell_type": "code",
   "execution_count": null,
   "metadata": {},
   "outputs": [],
   "source": [
    "def cumsum_signal(vec):\n",
    "    temp_val = 0\n",
    "    vec_new = []\n",
    "    for i in vec:\n",
    "        if i > temp_val:\n",
    "            vec_new.append(i)\n",
    "            temp_val = i\n",
    "        else:\n",
    "            vec_new.append(temp_val)\n",
    "    return vec_new"
   ]
  },
  {
   "cell_type": "markdown",
   "metadata": {},
   "source": [
    "### Intervention by after days for SEIR model\n",
    "* after days, start interverntion, R0 = R0 * 0.5"
   ]
  },
  {
   "cell_type": "code",
   "execution_count": null,
   "metadata": {
    "ExecuteTime": {
     "end_time": "2020-03-23T05:24:27.575293Z",
     "start_time": "2020-03-23T05:24:27.530166Z"
    }
   },
   "outputs": [],
   "source": [
    "# Use a constant reproduction number\n",
    "def eval_model_const(params, data, population, return_solution=False, forecast_days=0):\n",
    "    R_0, cfr = params # Paramaters, R0 and cfr \n",
    "    N = population # Population of each country\n",
    "    n_infected = data['ConfirmedCases'].iloc[0] # start from first comfirmedcase on dataset first date\n",
    "    max_days = len(data) + forecast_days # How many days want to predict\n",
    "    s, e, i, r = (N - n_infected)/ N, 0, n_infected / N, 0 #Initial stat for SEIR model\n",
    "    \n",
    "    # R0 become half after intervention days\n",
    "    def time_varying_reproduction(t):\n",
    "        if t > 80: # we set intervention days = 80\n",
    "            return R_0 * 0.5\n",
    "        else:\n",
    "            return R_0\n",
    "    \n",
    "    # Solve the SEIR differential equation.\n",
    "    sol = solve_ivp(SEIR_model, [0, max_days], [s, e, i, r], args=(time_varying_reproduction, T_inf, T_inc),\n",
    "                    t_eval=np.arange(0, max_days))\n",
    "    \n",
    "    sus, exp, inf, rec = sol.y\n",
    "    # Predict confirmedcase\n",
    "    y_pred_cases = np.clip((inf + rec) * N ,0,np.inf)\n",
    "    y_true_cases = data['ConfirmedCases'].values\n",
    "    \n",
    "    # Predict Fatalities by remove * fatality rate(cfr)\n",
    "    y_pred_fat = np.clip(rec*N* cfr, 0, np.inf)\n",
    "    y_true_fat = data['Fatalities'].values\n",
    "    \n",
    "    optim_days = min(20, len(data))  # Days to optimise for\n",
    "    weights = 1 / np.arange(1, optim_days+1)[::-1]  # Recent data is more heavily weighted\n",
    "    \n",
    "    # using mean squre log error to evaluate\n",
    "    msle_cases = mean_squared_log_error(y_true_cases[-optim_days:], y_pred_cases[-optim_days:], weights)\n",
    "    msle_fat = mean_squared_log_error(y_true_fat[-optim_days:], y_pred_fat[-optim_days:], weights)\n",
    "    msle_final = np.mean([msle_cases, msle_fat])\n",
    "    \n",
    "    if return_solution:\n",
    "        return msle_final, sol\n",
    "    else:\n",
    "        return msle_final"
   ]
  },
  {
   "cell_type": "markdown",
   "metadata": {},
   "source": [
    "### Intervention by Hill function for SEIR model\n",
    "* https://github.com/SwissTPH/openmalaria/wiki/ModelDecayFunctions"
   ]
  },
  {
   "cell_type": "code",
   "execution_count": null,
   "metadata": {
    "ExecuteTime": {
     "end_time": "2020-03-23T05:24:27.608292Z",
     "start_time": "2020-03-23T05:24:27.578669Z"
    }
   },
   "outputs": [],
   "source": [
    "# Use a Hill decayed reproduction number\n",
    "def eval_model_decay(params, data, population, return_solution=False, forecast_days=0):\n",
    "    R_0, cfr, k, L = params # Paramaters, R0 and cfr \n",
    "    N = population # Population of each country\n",
    "    n_infected = data['ConfirmedCases'].iloc[0] # start from first comfirmedcase on dataset first date\n",
    "    max_days = len(data) + forecast_days # How many days want to predict\n",
    "    s, e, i, r = (N - n_infected)/ N, 0, n_infected / N, 0 #Initial stat for SEIR model\n",
    "    \n",
    "    # https://github.com/SwissTPH/openmalaria/wiki/ModelDecayFunctions   \n",
    "    # Hill decay. Initial values: R_0=2.2, k=2, L=50\n",
    "    def time_varying_reproduction(t): \n",
    "        return R_0 / (1 + (t/L)**k)\n",
    "    \n",
    "    # Solve the SEIR differential equation.\n",
    "    sol = solve_ivp(SEIR_model, [0, max_days], [s, e, i, r], args=(time_varying_reproduction, T_inf, T_inc),\n",
    "                    t_eval=np.arange(0, max_days))\n",
    "    \n",
    "    sus, exp, inf, rec = sol.y\n",
    "    # Predict confirmedcase\n",
    "    y_pred_cases = np.clip((inf + rec) * N ,0,np.inf)\n",
    "    y_true_cases = data['ConfirmedCases'].values\n",
    "    \n",
    "    # Predict Fatalities by remove * fatality rate(cfr)\n",
    "    y_pred_fat = np.clip(rec*N* cfr, 0, np.inf)\n",
    "    y_true_fat = data['Fatalities'].values\n",
    "    \n",
    "    optim_days = min(20, len(data))  # Days to optimise for\n",
    "    weights = 1 / np.arange(1, optim_days+1)[::-1]  # Recent data is more heavily weighted\n",
    "    \n",
    "    # using mean squre log error to evaluate\n",
    "    msle_cases = mean_squared_log_error(y_true_cases[-optim_days:], y_pred_cases[-optim_days:], weights)\n",
    "    msle_fat = mean_squared_log_error(y_true_fat[-optim_days:], y_pred_fat[-optim_days:], weights)\n",
    "    msle_final = np.mean([msle_cases, msle_fat])\n",
    "    \n",
    "    if return_solution:\n",
    "        return msle_final, sol\n",
    "    else:\n",
    "        return msle_final"
   ]
  },
  {
   "cell_type": "markdown",
   "metadata": {},
   "source": [
    "### Function of Fit the SEIR model to real data\n",
    "* Auto choose the best decay function of R_t (intervention days decay or Hill decay)\n",
    "* Total case/country population is below 1, reduce country population\n",
    "* If datset still no case, return 0 \n",
    "* Plot the fit result and forecast trends (Infect smooth decrease by what date)\n",
    "* Function being hide, there are describe in code."
   ]
  },
  {
   "cell_type": "code",
   "execution_count": null,
   "metadata": {
    "_kg_hide-input": true
   },
   "outputs": [],
   "source": [
    "from matplotlib import dates\n",
    "import plotly.graph_objects as go\n",
    "\n",
    "def fit_model_new(data, area_name, initial_guess=[2.2, 0.02, 2, 50], \n",
    "              bounds=((1, 20), (0, 0.15), (1, 3), (1, 100)), make_plot=True, decay_mode = None):\n",
    "    \n",
    "    if area_name in ['France']:# France last data looks weird, remove it\n",
    "        train = data.query('ConfirmedCases > 0').copy()[:-1]\n",
    "    else:\n",
    "        train = data.query('ConfirmedCases > 0').copy()\n",
    "    \n",
    "    ####### Split Train & Valid #######\n",
    "    valid_data = train[-7:].copy()\n",
    "    train_data = train[:-7].copy()\n",
    "    \n",
    "    ####### If this country have no ConfirmedCase, return 0 #######\n",
    "    if len(train_data) == 0:\n",
    "        result_zero = np.zeros((43))\n",
    "        return pd.DataFrame({'ConfirmedCases':result_zero,'Fatalities':result_zero}), 0 \n",
    "    \n",
    "    ####### Load the population of area #######\n",
    "    try:\n",
    "        #population = province_lookup[area_name]\n",
    "        population = pop_info[pop_info['Name']==area_name]['Population'].tolist()[0]\n",
    "    except IndexError:\n",
    "        print ('country not in population set, '+str(area_name))\n",
    "        population = 1000000 \n",
    "    \n",
    "    \n",
    "    if area_name == 'US':\n",
    "        population = 327200000\n",
    "        \n",
    "    if area_name == 'Global':\n",
    "        population = 7744240900\n",
    "        \n",
    "    cases_per_million = train_data['ConfirmedCases'].max() * 10**6 / population\n",
    "    n_infected = train_data['ConfirmedCases'].iloc[0]\n",
    "    \n",
    "    ####### Total case/popuplation below 1, reduce country population #######\n",
    "    if cases_per_million < 1:\n",
    "        #print ('reduce pop divide by 100')\n",
    "        population = population/100\n",
    "        \n",
    "    ####### Fit the real data by minimize the MSLE #######\n",
    "    res_const = minimize(eval_model_const, [2.2, 0.02], bounds=((1, 20), (0, 0.15)),\n",
    "                         args=(train_data, population, False),\n",
    "                         method='L-BFGS-B')\n",
    "\n",
    "    res_decay = minimize(eval_model_decay, initial_guess, bounds=bounds,\n",
    "                         args=(train_data, population, False),\n",
    "                         method='L-BFGS-B')\n",
    "    \n",
    "    ####### Align the date information #######\n",
    "    test_end = datetime.datetime.strptime('2020-05-14','%Y-%m-%d')\n",
    "    test_start = datetime.datetime.strptime('2020-04-02','%Y-%m-%d')\n",
    "    test_period = (test_end - test_start).days\n",
    "    train_max = train_data.Date_datetime.max()\n",
    "    train_all_max = train.Date_datetime.max()\n",
    "    train_min = train_data.Date_datetime.min()\n",
    "    add_date = 0\n",
    "    delta_days =(test_end - train_max).days\n",
    "    train_add_time=[]\n",
    "\n",
    "    if train_min > test_start:\n",
    "        add_date = (train_min-test_start).days\n",
    "        last = train_min-timedelta(add_date)\n",
    "        train_add_time = np.arange(last, train_min, dtype='datetime64[D]').tolist()\n",
    "        train_add_time = pd.to_datetime(train_add_time)\n",
    "        dates_all = train_add_time.append(pd.to_datetime(np.arange(train_min, test_end+timedelta(1), dtype='datetime64[D]')))\n",
    "    else:\n",
    "        dates_all = pd.to_datetime(np.arange(train_min, test_end+timedelta(1), dtype='datetime64[D]'))\n",
    "\n",
    "\n",
    "    ####### Auto find the best decay function ####### \n",
    "    if decay_mode is None:\n",
    "        if res_const.fun < res_decay.fun :\n",
    "            msle, sol = eval_model_const(res_const.x, train_data, population, True, delta_days+add_date)\n",
    "            res = res_const\n",
    "\n",
    "        else:\n",
    "            msle, sol = eval_model_decay(res_decay.x, train_data, population, True, delta_days+add_date)\n",
    "            res = res_decay\n",
    "            R_0, cfr, k, L = res.x\n",
    "    else:\n",
    "        if decay_mode =='day_decay':\n",
    "            msle, sol = eval_model_const(res_const.x, train_data, population, True, delta_days+add_date)\n",
    "            res = res_const\n",
    "        else:\n",
    "            msle, sol = eval_model_decay(res_decay.x, train_data, population, True, delta_days+add_date)\n",
    "            res = res_decay\n",
    "            R_0, cfr, k, L = res.x\n",
    "\n",
    "    ####### Predict the result by using best fit paramater of SEIR model ####### \n",
    "    sus, exp, inf, rec = sol.y\n",
    "    \n",
    "    y_pred = pd.DataFrame({\n",
    "        'ConfirmedCases': cumsum_signal(np.diff((inf + rec) * population, prepend=n_infected).cumsum()),\n",
    "       # 'ConfirmedCases': [inf[0]*population for i in range(add_date)]+(np.clip((inf + rec) * population,0,np.inf)).tolist(),\n",
    "       # 'Fatalities': [rec[0]*population for i in range(add_date)]+(np.clip(rec, 0, np.inf) * population * res.x[1]).tolist()\n",
    "        'Fatalities': cumsum_signal((np.clip(rec * population * res.x[1], 0, np.inf)).tolist())\n",
    "    })\n",
    "\n",
    "    y_pred_valid = y_pred.iloc[len(train_data):len(train_data)+len(valid_data)]\n",
    "    #y_pred_valid = y_pred.iloc[:len(train_data)]\n",
    "    y_pred_test = y_pred.iloc[-(test_period+1):]\n",
    "    #y_true_valid = train_data[['ConfirmedCases', 'Fatalities']]\n",
    "    y_true_valid = valid_data[['ConfirmedCases', 'Fatalities']]\n",
    "    #print (len(y_pred),train_min)\n",
    "    #print (y_true_valid['ConfirmedCases'])\n",
    "    #print (y_pred_valid['ConfirmedCases'])\n",
    "    ####### Calculate MSLE ####### \n",
    "    valid_msle_cases = mean_squared_log_error(y_true_valid['ConfirmedCases'], y_pred_valid['ConfirmedCases'])\n",
    "    valid_msle_fat = mean_squared_log_error(y_true_valid['Fatalities'], y_pred_valid['Fatalities'])\n",
    "    valid_msle = np.mean([valid_msle_cases, valid_msle_fat])\n",
    "    \n",
    "    ####### Plot the fit result of train data and forecast after 300 days ####### \n",
    "    if make_plot:\n",
    "        if len(res.x)<=2:\n",
    "            print(f'Validation MSLE: {valid_msle:0.5f}, using intervention days decay, Reproduction number(R0) : {res.x[0]:0.5f}, Fatal rate : {res.x[1]:0.5f}')\n",
    "        else:\n",
    "            print(f'Validation MSLE: {valid_msle:0.5f}, using Hill decay, Reproduction number(R0) : {res.x[0]:0.5f}, Fatal rate : {res.x[1]:0.5f}, K : {res.x[2]:0.5f}, L: {res.x[3]:0.5f}')\n",
    "        \n",
    "        ####### Plot the fit result of train data dna SEIR model trends #######\n",
    "\n",
    "        f = plt.figure(figsize=(16,5))\n",
    "        ax = f.add_subplot(1,2,1)\n",
    "        ax.plot(exp, 'y', label='Exposed');\n",
    "        ax.plot(inf, 'r', label='Infected');\n",
    "        ax.plot(rec, 'c', label='Recovered/deceased');\n",
    "        plt.title('SEIR Model Trends')\n",
    "        plt.xlabel(\"Days\", fontsize=10);\n",
    "        plt.ylabel(\"Fraction of population\", fontsize=10);\n",
    "        plt.legend(loc='best');\n",
    "        #train_date_remove_year = train_data['Date_datetime'].apply(lambda date:'{:%m-%d}'.format(date))\n",
    "        ax2 = f.add_subplot(1,2,2)\n",
    "        xaxis = train_data['Date_datetime'].tolist()\n",
    "        xaxis = dates.date2num(xaxis)\n",
    "        hfmt = dates.DateFormatter('%m\\n%d')\n",
    "        ax2.xaxis.set_major_formatter(hfmt)\n",
    "        ax2.plot(np.array(train_data['Date_datetime'], dtype='datetime64[D]'),train_data['ConfirmedCases'],label='Confirmed Cases (train)', c='g')\n",
    "        ax2.plot(np.array(train_data['Date_datetime'], dtype='datetime64[D]'), y_pred['ConfirmedCases'][:len(train_data)],label='Cumulative modeled infections', c='r')\n",
    "        ax2.plot(np.array(valid_data['Date_datetime'], dtype='datetime64[D]'), y_true_valid['ConfirmedCases'],label='Confirmed Cases (valid)', c='b')\n",
    "        ax2.plot(np.array(valid_data['Date_datetime'], dtype='datetime64[D]'),y_pred_valid['ConfirmedCases'],label='Cumulative modeled infections (valid)', c='y')\n",
    "        plt.title('Real ConfirmedCase and Predict ConfirmedCase')\n",
    "        plt.legend(loc='best');\n",
    "        plt.show()\n",
    "            \n",
    "        ####### Forecast 300 days after by using the best paramater of train data #######\n",
    "        if len(res.x)>2:\n",
    "            msle, sol = eval_model_decay(res.x, train_data, population, True, 300)\n",
    "        else:\n",
    "            msle, sol = eval_model_const(res.x, train_data, population, True, 300)\n",
    "        \n",
    "        sus, exp, inf, rec = sol.y\n",
    "        \n",
    "        y_pred = pd.DataFrame({\n",
    "            'ConfirmedCases': cumsum_signal(np.diff((inf + rec) * population, prepend=n_infected).cumsum()),\n",
    "            'Fatalities': cumsum_signal(np.clip(rec, 0, np.inf) * population * res.x[1])\n",
    "        })\n",
    "        \n",
    "        ####### Plot 300 days after of each country #######\n",
    "        start = train_min\n",
    "        end = start + timedelta(len(y_pred))\n",
    "        time_array = np.arange(start, end, dtype='datetime64[D]')\n",
    "\n",
    "        max_day = numpy.where(inf == numpy.amax(inf))[0][0]\n",
    "        where_time = time_array[max_day]\n",
    "        pred_max_day = y_pred['ConfirmedCases'][max_day]\n",
    "        xy_show_max_estimation = (where_time, max_day)\n",
    "        \n",
    "        con = y_pred['ConfirmedCases']\n",
    "        max_day_con = numpy.where(con == numpy.amax(con))[0][0] # Find the max confimed case of each country\n",
    "        max_con = numpy.amax(con)\n",
    "        where_time_con = time_array[len(time_array)-50]\n",
    "        xy_show_max_estimation_confirmed = (where_time_con, max_con)\n",
    "        \n",
    "        fig = go.Figure()\n",
    "        fig.add_trace(go.Scatter(x=time_array, y=y_pred['ConfirmedCases'].astype(int),\n",
    "                            mode='lines',\n",
    "                            line = dict(color='red'),\n",
    "                            name='Estimation Confirmed Case Start from '+ str(start.date())+ ' to ' +str(end.date())))\n",
    "        \n",
    "        fig.add_trace(go.Scatter(x=time_array[:len(train)], y=train['ConfirmedCases'],\n",
    "                            mode='lines',\n",
    "                            name='Confirmed case until '+ str(train_all_max.date()),line = dict(color='green', width=4)))\n",
    "        fig.add_annotation(\n",
    "            x=where_time_con,\n",
    "            y=max_con-(max_con/30),\n",
    "            showarrow=False,\n",
    "            text=\"Estimate Max Case around:\" +str(int(max_con)),\n",
    "            font=dict(\n",
    "                color=\"Blue\",\n",
    "                size=15\n",
    "            ))\n",
    "        fig.add_annotation(\n",
    "            x=time_array[len(train)-1],\n",
    "            y=train['ConfirmedCases'].tolist()[-1],\n",
    "            showarrow=True,\n",
    "            text=f\"Real Max ConfirmedCase: \" +str(int(train['ConfirmedCases'].tolist()[-1]))) \n",
    "        \n",
    "        fig.add_annotation(\n",
    "            x=where_time,\n",
    "            y=pred_max_day,\n",
    "            text='Infect start decrease from: ' + str(where_time))   \n",
    "        fig.update_layout(title='Estimate Confirmed Case ,'+area_name+' Total population ='+ str(int(population)), legend_orientation=\"h\")\n",
    "        fig.show()\n",
    "        \n",
    "        #df = pd.DataFrame({'Values': train_data['ConfirmedCases'].tolist()+y_pred['ConfirmedCases'].tolist(),'Date_datatime':time_array[:len(train_data)].tolist()+time_array.tolist(),\n",
    "        #           'Real/Predict': ['ConfirmedCase' for i in range(len(train_data))]+['PredictCase' for i in range(len(y_pred))]})\n",
    "        #fig = px.line(df, x=\"Date_datatime\", y=\"Values\",color = 'Real/Predict')\n",
    "        #fig.show()\n",
    "        #plt.figure(figsize = (16,7))\n",
    "        #plt.plot(time_array[:len(train_data)],train_data['ConfirmedCases'],label='Confirmed case until '+ str(train_max.date()),color='g', linewidth=3.0)\n",
    "        #plt.plot(time_array,y_pred['ConfirmedCases'],label='Estimation Confirmed Case Start from '+ str(start.date())+ ' to ' +str(end.date()),color='r', linewidth=1.0)\n",
    "        #plt.annotate('Infect start decrease from: ' + str(where_time), xy=xy_show_max_estimation, size=15, color=\"black\")\n",
    "        #plt.annotate('max Confirmedcase: ' + str(int(max_con)), xy=xy_show_max_estimation_confirmed, size=15, color=\"black\")\n",
    "        #plt.title('Estimate Confirmed Case '+area_name+' Total population ='+ str(int(population)))\n",
    "        #plt.legend(loc='lower right')\n",
    "        #plt.show()\n",
    "\n",
    "\n",
    "    return y_pred_test, valid_msle"
   ]
  },
  {
   "cell_type": "markdown",
   "metadata": {},
   "source": [
    "## Let's fit SEIR model on country\n",
    "* Check all province in China, and US\n"
   ]
  },
  {
   "cell_type": "code",
   "execution_count": null,
   "metadata": {},
   "outputs": [],
   "source": [
    "country = 'Anhui'\n",
    "if country not in train['Country_Region'].unique():\n",
    "    country_pd_train = train[train['Province_State']==country]\n",
    "else:\n",
    "    country_pd_train = train[train['Country_Region']==country]\n",
    "\n",
    "a,b = fit_model_new(country_pd_train,country,make_plot=True)"
   ]
  },
  {
   "cell_type": "code",
   "execution_count": null,
   "metadata": {},
   "outputs": [],
   "source": [
    "for country in train['Province_State'].unique():\n",
    "    if country not in train['Country_Region'].unique():\n",
    "        country_pd_train = train[train['Province_State']==country]\n",
    "    else:\n",
    "        country_pd_train = train[train['Country_Region']==country]\n",
    "\n",
    "    a,b = fit_model_new(country_pd_train,country,make_plot=True)"
   ]
  },
  {
   "cell_type": "markdown",
   "metadata": {},
   "source": [
    "### Check the total US trend"
   ]
  },
  {
   "cell_type": "code",
   "execution_count": null,
   "metadata": {},
   "outputs": [],
   "source": [
    "#我的数据还没放美国的，稍等\n",
    "#country = 'US'\n",
    "#country_pd_train = train[train['Country_Region']==country]\n",
    "#country_pd_train2 = country_pd_train.groupby(['Date']).sum().reset_index()\n",
    "#country_pd_train2['Date_datetime'] = country_pd_train2['Date'].apply(lambda x: (datetime.datetime.strptime(x, '%Y-%m-%d')))\n",
    "#a,b = fit_model_new(country_pd_train2,country,make_plot=True)"
   ]
  },
  {
   "cell_type": "markdown",
   "metadata": {},
   "source": [
    "### Check the total China trend（中国总体的）"
   ]
  },
  {
   "cell_type": "code",
   "execution_count": null,
   "metadata": {},
   "outputs": [],
   "source": [
    "country = 'China'\n",
    "country_pd_train = train[train['Country_Region']==country]\n",
    "country_pd_train2 = country_pd_train.groupby(['Date']).sum().reset_index()\n",
    "country_pd_train2['Date_datetime'] = country_pd_train2['Date'].apply(lambda x: (datetime.datetime.strptime(x, '%Y-%m-%d')))\n",
    "a,b = fit_model_new(country_pd_train2,country,make_plot=True)"
   ]
  },
  {
   "cell_type": "markdown",
   "metadata": {},
   "source": [
    "### Global Forecast（这个可以要，也可以不要）"
   ]
  },
  {
   "cell_type": "code",
   "execution_count": null,
   "metadata": {},
   "outputs": [],
   "source": [
    "country = 'Global'\n",
    "country_pd_train2 = train.groupby(['Date']).sum().reset_index()\n",
    "country_pd_train2['Date_datetime'] = country_pd_train2['Date'].apply(lambda x: (datetime.datetime.strptime(x, '%Y-%m-%d')))\n",
    "a,b = fit_model_new(country_pd_train2,country,make_plot=True)"
   ]
  },
  {
   "cell_type": "markdown",
   "metadata": {},
   "source": [
    "## Predict all Country/Region and Province/States\n",
    "* Counting all Country/Region MSLE & predict\n",
    "* If MSLE is lower than 1 , using PR model to retrain and check the performance"
   ]
  },
  {
   "cell_type": "code",
   "execution_count": null,
   "metadata": {},
   "outputs": [],
   "source": [
    "import numpy\n",
    "validation_scores = []\n",
    "validation_county = []\n",
    "validation_country = []\n",
    "for country in tqdm(train['Country_Region'].unique()):\n",
    "    country_pd_train = train[train['Country_Region']==country]\n",
    "    #if country_pd_train['Province_State'].isna().unique()==True:\n",
    "    if len(country_pd_train['Province_State'].unique())<2:\n",
    "        predict_test, score = fit_model_new(country_pd_train,country,make_plot=False)\n",
    "        if score ==0:\n",
    "            print(f'{country} no case')\n",
    "        validation_scores.append(score)\n",
    "        validation_county.append(country)\n",
    "        validation_country.append(country)\n",
    "        test.loc[test['Country_Region']==country,'ConfirmedCases'] = predict_test['ConfirmedCases'].tolist()\n",
    "        test.loc[test['Country_Region']==country,'Fatalities'] = predict_test['Fatalities'].tolist()\n",
    "    else:\n",
    "        for state in country_pd_train['Province_State'].unique():\n",
    "            if state != state: # check nan\n",
    "                state_pd = country_pd_train[country_pd_train['Province_State'].isna()]\n",
    "                predict_test, score = fit_model_new(state_pd,state,make_plot=False)\n",
    "                if score ==0:\n",
    "                    print(f'{country} / {state} no case')\n",
    "                validation_scores.append(score)\n",
    "                validation_county.append(state)\n",
    "                validation_country.append(country)\n",
    "                test.loc[(test['Country_Region']==country)&(test['Province_State'].isna()),'ConfirmedCases'] = predict_test['ConfirmedCases'].tolist()\n",
    "                test.loc[(test['Country_Region']==country)&(test['Province_State'].isna()),'Fatalities'] = predict_test['Fatalities'].tolist()\n",
    "            else:\n",
    "                state_pd = country_pd_train[country_pd_train['Province_State']==state]\n",
    "                predict_test, score = fit_model_new(state_pd,state,make_plot=False)\n",
    "                if score ==0:\n",
    "                    print(f'{country} / {state} no case')\n",
    "                validation_scores.append(score)\n",
    "                validation_county.append(state)\n",
    "                validation_country.append(country)\n",
    "                test.loc[(test['Country_Region']==country)&(test['Province_State']==state),'ConfirmedCases'] = predict_test['ConfirmedCases'].tolist()\n",
    "                test.loc[(test['Country_Region']==country)&(test['Province_State']==state),'Fatalities'] = predict_test['Fatalities'].tolist()\n",
    "         #   print(f'{country} {state} {score:0.5f}')\n",
    "            \n",
    "print(f'Mean validation score: {np.average(validation_scores):0.5f}')"
   ]
  },
  {
   "cell_type": "code",
   "execution_count": null,
   "metadata": {},
   "outputs": [],
   "source": [
    "validation_scores = pd.DataFrame({'country/state':validation_country,'country':validation_county,'MSLE':validation_scores})\n",
    "validation_scores.sort_values(by=['MSLE'], ascending=False).head(20)"
   ]
  },
  {
   "cell_type": "code",
   "execution_count": null,
   "metadata": {},
   "outputs": [],
   "source": [
    "large_msle = validation_scores[validation_scores['MSLE']>1]"
   ]
  },
  {
   "cell_type": "markdown",
   "metadata": {},
   "source": [
    "## Retrain PR model for MSLE>1 countries\n",
    "* If MSLE of PR model lower than SEIR model, than use PR model as predict result"
   ]
  },
  {
   "cell_type": "code",
   "execution_count": null,
   "metadata": {},
   "outputs": [],
   "source": [
    "test_end = datetime.datetime.strptime('2020-05-14','%Y-%m-%d')\n",
    "test_start = datetime.datetime.strptime('2020-04-02','%Y-%m-%d')\n",
    "train_max = train.Date_datetime.max()\n",
    "train_min = train.Date_datetime.min()\n",
    "delta_days =(test_end - train_max).days\n",
    "all_days =(test_end - train_min).days\n",
    "test_days = (test_end - test_start).days\n",
    "delta_days,all_days,test_days"
   ]
  },
  {
   "cell_type": "code",
   "execution_count": null,
   "metadata": {},
   "outputs": [],
   "source": [
    "from sklearn import linear_model\n",
    "from sklearn.preprocessing import PolynomialFeatures\n",
    "from sklearn.pipeline import Pipeline\n",
    "from sklearn.linear_model import LinearRegression\n",
    "\n",
    "for country in large_msle['country'].unique():\n",
    "    if (country!= country)==False: # check None\n",
    "        #print ('training model for country ==>'+country)\n",
    "        country_pd_train = train[train['Country_Region']==country]\n",
    "        country_pd_test = test[test['Country_Region']==country]\n",
    "        if len(country_pd_train)==0:\n",
    "            country_pd_train = train[train['Province_State']==country]\n",
    "            country_pd_test = test[test['Province_State']==country]\n",
    "\n",
    "            x = np.array(range(len(country_pd_train))).reshape((-1,1))[:-7]\n",
    "            valid_x = np.array(range(len(country_pd_train))).reshape((-1,1))[-7:]\n",
    "            y = country_pd_train['ConfirmedCases'][:-7]\n",
    "            valid_y = country_pd_train['ConfirmedCases'][-7:]\n",
    "            y_fat = country_pd_train['Fatalities'][:-7]\n",
    "            valid_y_fat = country_pd_train['Fatalities'][-7:]\n",
    "            \n",
    "            model = Pipeline([('poly', PolynomialFeatures(degree=2)),\n",
    "                             ('linear', LinearRegression(fit_intercept=False))])\n",
    "            model = model.fit(x, y)\n",
    "\n",
    "            model_fat = Pipeline([('poly', PolynomialFeatures(degree=2)),\n",
    "                             ('linear', LinearRegression(fit_intercept=False))])\n",
    "            model_fat = model_fat.fit(x, y_fat)\n",
    "            \n",
    "            predict_y = model.predict(valid_x)\n",
    "            predict_yfat = model_fat.predict(valid_x)\n",
    "            score = mean_squared_log_error(np.clip(valid_y,0,np.inf), np.clip(predict_y,0,np.inf))\n",
    "            score_fat = mean_squared_log_error(np.clip(valid_y_fat,0,np.inf), np.clip(predict_yfat,0,np.inf))\n",
    "            score = (score+score_fat)/2\n",
    "\n",
    "            print(f'{country} {score:0.5f}')\n",
    "            if score < large_msle[large_msle['country']==country]['MSLE'].tolist()[0]:\n",
    "                validation_scores.loc[validation_scores['country']==country,'MSLE'] = score\n",
    "                predict_x = (np.array(range(all_days))).reshape((-1,1))\n",
    "                test.loc[test['Province_State']==country,'ConfirmedCases'] = model.predict(predict_x)[-43:]\n",
    "                test.loc[test['Province_State']==country,'Fatalities'] = model_fat.predict(predict_x)[-43:]\n",
    "        else:\n",
    "            x = np.array(range(len(country_pd_train))).reshape((-1,1))[:-7]\n",
    "            valid_x = np.array(range(len(country_pd_train))).reshape((-1,1))[-7:]\n",
    "            y = country_pd_train['ConfirmedCases'][:-7]\n",
    "            valid_y = country_pd_train['ConfirmedCases'][-7:]\n",
    "            y_fat = country_pd_train['Fatalities'][:-7]\n",
    "            valid_y_fat = country_pd_train['Fatalities'][-7:]\n",
    "            \n",
    "            model = Pipeline([('poly', PolynomialFeatures(degree=2)),\n",
    "                             ('linear', LinearRegression(fit_intercept=False))])\n",
    "            model = model.fit(x, y)\n",
    "\n",
    "            model_fat = Pipeline([('poly', PolynomialFeatures(degree=2)),\n",
    "                             ('linear', LinearRegression(fit_intercept=False))])\n",
    "            model_fat = model_fat.fit(x, y_fat)\n",
    "            \n",
    "            predict_y = model.predict(valid_x)\n",
    "            predict_yfat = model_fat.predict(valid_x)\n",
    "            score = mean_squared_log_error(np.clip(valid_y,0,np.inf), np.clip(predict_y,0,np.inf))\n",
    "            score_fat = mean_squared_log_error(np.clip(valid_y_fat,0,np.inf), np.clip(predict_yfat,0,np.inf))\n",
    "            score = (score+score_fat)/2\n",
    "\n",
    "            print(f'{country} {score:0.5f}')\n",
    "            if score < large_msle[large_msle['country']==country]['MSLE'].tolist()[0]:\n",
    "                validation_scores.loc[validation_scores['country']==country,'MSLE'] = score\n",
    "                predict_x = (np.array(range(all_days))).reshape((-1,1))\n",
    "                test.loc[test['Country_Region']==country,'ConfirmedCases'] = model.predict(predict_x)[-43:]\n",
    "                test.loc[test['Country_Region']==country,'Fatalities'] = model_fat.predict(predict_x)[-43:]"
   ]
  },
  {
   "cell_type": "markdown",
   "metadata": {},
   "source": [
    "## Submit result"
   ]
  },
  {
   "cell_type": "code",
   "execution_count": null,
   "metadata": {},
   "outputs": [],
   "source": [
    "val_soces = validation_scores['MSLE'].tolist()\n",
    "print(f'Mean validation score: {np.average(val_soces):0.5f}')"
   ]
  },
  {
   "cell_type": "code",
   "execution_count": null,
   "metadata": {
    "ExecuteTime": {
     "end_time": "2020-03-23T05:27:29.369906Z",
     "start_time": "2020-03-23T05:27:29.257863Z"
    }
   },
   "outputs": [],
   "source": [
    "#这个预测数据的生成还是有问题\n",
    "\n",
    "#submit = pd.read_csv('submission.csv')\n",
    "#submit['Fatalities'] = test['Fatalities'].astype('float')\n",
    "#submit['ConfirmedCases'] = test['ConfirmedCases'].astype('float')\n",
    "#submit.to_csv('submission.csv',index=False)"
   ]
  },
  {
   "cell_type": "code",
   "execution_count": null,
   "metadata": {},
   "outputs": [],
   "source": [
    "#submit.head(1000)"
   ]
  },
  {
   "cell_type": "markdown",
   "metadata": {},
   "source": [
    "# Conclusion\n",
    "* This SEIR model is for idea Compartmental models in epidemiology, it's rough\n",
    "* R0 reduce can be cause by many things (government, Medical system, calture(habit to wear mask), people behavior)\n",
    "* We can using real data of recover for each country to define \"T_inf\"\n",
    "\n",
    "# Hope COVID-19 will be under control soon"
   ]
  },
  {
   "cell_type": "code",
   "execution_count": null,
   "metadata": {},
   "outputs": [],
   "source": []
  }
 ],
 "metadata": {
  "kernelspec": {
   "display_name": "Python 3",
   "language": "python",
   "name": "python3"
  },
  "language_info": {
   "codemirror_mode": {
    "name": "ipython",
    "version": 3
   },
   "file_extension": ".py",
   "mimetype": "text/x-python",
   "name": "python",
   "nbconvert_exporter": "python",
   "pygments_lexer": "ipython3",
   "version": "3.7.4"
  }
 },
 "nbformat": 4,
 "nbformat_minor": 4
}
